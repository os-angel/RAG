{
 "cells": [
  {
   "cell_type": "markdown",
   "id": "c213e500",
   "metadata": {},
   "source": [
    "# **Module overview**\n",
    "\n",
    "This module covers everything about parsing and ingesting data for RAG systems, from basic text files to complex PDFs and databases. We'll use LangChain and explore each technique with practical and useful examples.\n",
    "\n",
    "Content:\n",
    "* Introduction to Data Ingestion\n",
    "    * Text Files (.txt)\n",
    "    * PDF documents\n",
    "    * Word documents\n",
    "    * CSV and excel files\n",
    "    * Json and structured data\n",
    "    * Web scrapping\n",
    "    * Databases (SQl)\n",
    "    * Audio and video transcripts\n",
    "* Advanced Techniques\n",
    "* Best practices"
   ]
  },
  {
   "cell_type": "markdown",
   "id": "4eaa6cae",
   "metadata": {},
   "source": [
    "## **Data Ingestion**"
   ]
  },
  {
   "cell_type": "code",
   "execution_count": 10,
   "id": "ba2cd098",
   "metadata": {},
   "outputs": [],
   "source": [
    "import os \n",
    "from typing import List, Dict, Any\n",
    "import pandas as pd\n",
    "\n",
    "from langchain_core.documents import Document\n",
    "from langchain.text_splitter import (\n",
    "    RecursiveCharacterTextSplitter,\n",
    "    CharacterTextSplitter,\n",
    "    TokenTextSplitter\n",
    ")"
   ]
  },
  {
   "cell_type": "markdown",
   "id": "fbb0d651",
   "metadata": {},
   "source": [
    "#### Understanding document structure in Langchain\n",
    "\n",
    "Important step previous applicate any technique"
   ]
  },
  {
   "cell_type": "code",
   "execution_count": null,
   "id": "4d0875ad",
   "metadata": {},
   "outputs": [
    {
     "name": "stdout",
     "output_type": "stream",
     "text": [
      "Document Structure\n",
      "Content: This is the main text content that will embedded and searched\n",
      "Metadata: {'source': 'example.txt', 'page': 1, 'author': 'AngelO', 'date_created': '2025-08-23', 'custom_field': 'any_value'}\n"
     ]
    },
    {
     "data": {
      "text/plain": [
       "Document(metadata={'source': 'example.txt', 'page': 1, 'author': 'AngelO', 'date_created': '2025-08-23', 'custom_field': 'any_value'}, page_content='This is the main text content that will embedded and searched')"
      ]
     },
     "execution_count": 13,
     "metadata": {},
     "output_type": "execute_result"
    }
   ],
   "source": [
    "# Create a simple document\n",
    "doc = Document(\n",
    "    page_content = \"This is the main text content that will embedded and searched\",\n",
    "    metadata = {\n",
    "        \"source\":\"example.txt\",\n",
    "        \"page\":1,\n",
    "        \"author\":\"AngelO\",\n",
    "        \"date_created\":\"2025-08-23\",\n",
    "        \"custom_field\":\"any_value\"\n",
    "    }\n",
    ")\n",
    "\n",
    "print(\"Document Structure\")\n",
    "print(f\"Content: {doc.page_content}\")\n",
    "print(f\"Metadata: {doc.metadata}\")\n",
    "doc."
   ]
  },
  {
   "cell_type": "code",
   "execution_count": null,
   "id": "39f1532d",
   "metadata": {},
   "outputs": [],
   "source": []
  }
 ],
 "metadata": {
  "kernelspec": {
   "display_name": "RAGUdemy (3.13.2)",
   "language": "python",
   "name": "python3"
  },
  "language_info": {
   "codemirror_mode": {
    "name": "ipython",
    "version": 3
   },
   "file_extension": ".py",
   "mimetype": "text/x-python",
   "name": "python",
   "nbconvert_exporter": "python",
   "pygments_lexer": "ipython3",
   "version": "3.13.2"
  }
 },
 "nbformat": 4,
 "nbformat_minor": 5
}
