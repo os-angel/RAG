{
 "cells": [
  {
   "cell_type": "markdown",
   "id": "c213e500",
   "metadata": {},
   "source": [
    "# **Module overview**\n",
    "\n",
    "This module covers everything about parsing and ingesting data for RAG systems, from basic text files to complex PDFs and databases. We'll use LangChain and explore each technique with practical and useful examples.\n",
    "\n",
    "Content:\n",
    "* Introduction to Data Ingestion\n",
    "    * Text Files (.txt)\n",
    "    * PDF documents\n",
    "    * Word documents\n",
    "    * CSV and excel files\n",
    "    * Json and structured data\n",
    "    * Web scrapping\n",
    "    * Databases (SQl)\n",
    "    * Audio and video transcripts\n",
    "* Advanced Techniques\n",
    "* Best practices"
   ]
  },
  {
   "cell_type": "markdown",
   "id": "4eaa6cae",
   "metadata": {},
   "source": [
    "## **Data Ingestion**"
   ]
  },
  {
   "cell_type": "code",
   "execution_count": 9,
   "id": "ba2cd098",
   "metadata": {},
   "outputs": [],
   "source": [
    "import os \n",
    "from typing import List, Dict, Any\n",
    "import pandas as pd\n",
    "\n",
    "from langchain_core.documents import Document"
   ]
  },
  {
   "cell_type": "code",
   "execution_count": null,
   "id": "4d0875ad",
   "metadata": {},
   "outputs": [],
   "source": []
  }
 ],
 "metadata": {
  "kernelspec": {
   "display_name": "RAGUdemy (3.13.2)",
   "language": "python",
   "name": "python3"
  },
  "language_info": {
   "codemirror_mode": {
    "name": "ipython",
    "version": 3
   },
   "file_extension": ".py",
   "mimetype": "text/x-python",
   "name": "python",
   "nbconvert_exporter": "python",
   "pygments_lexer": "ipython3",
   "version": "3.13.2"
  }
 },
 "nbformat": 4,
 "nbformat_minor": 5
}
